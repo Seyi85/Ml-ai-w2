{
 "cells": [
  {
   "cell_type": "markdown",
   "metadata": {},
   "source": [
    "## Imports"
   ]
  },
  {
   "cell_type": "code",
   "execution_count": 1,
   "metadata": {},
   "outputs": [],
   "source": [
    "# pip install --upgrade scikit-learn"
   ]
  },
  {
   "cell_type": "code",
   "execution_count": 2,
   "metadata": {
    "colab": {},
    "colab_type": "code",
    "id": "mjnuJ19dJV7v"
   },
   "outputs": [
    {
     "name": "stdout",
     "output_type": "stream",
     "text": [
      "Pandas   1.0.5\n",
      "Sklearn  0.23.1\n"
     ]
    }
   ],
   "source": [
    "import time\n",
    "from IPython.display import clear_output\n",
    "import numpy    as np\n",
    "import pandas   as pd\n",
    "import seaborn  as sb\n",
    "import matplotlib.pyplot as plt\n",
    "import sklearn  as skl\n",
    "\n",
    "from sklearn import pipeline      # Pipeline\n",
    "from sklearn import preprocessing # OrdinalEncoder, LabelEncoder\n",
    "from sklearn import impute\n",
    "from sklearn import compose\n",
    "from sklearn import model_selection # train_test_split\n",
    "from sklearn import metrics         # accuracy_score, balanced_accuracy_score, plot_confusion_matrix\n",
    "from sklearn import set_config\n",
    "\n",
    "set_config(display='diagram') # Useful for display the pipeline\n",
    "\n",
    "print(\"Pandas  \", pd.__version__)\n",
    "print(\"Sklearn \", skl.__version__) # Try to use 0.24"
   ]
  },
  {
   "cell_type": "markdown",
   "metadata": {},
   "source": [
    "## Get the dataset\n",
    "- **CLOUD = True**: Download dataset from Kaggle. Necesary for cloud enviroments like COLAB. **Specify your [kaggle credentials](https://www.kaggle.com/docs/api)**.\n",
    "- **CLOUD = False**: Get the dataset from your local machine. **Specify the data path**."
   ]
  },
  {
   "cell_type": "code",
   "execution_count": 4,
   "metadata": {},
   "outputs": [],
   "source": [
    "CLOUD = False\n",
    "\n",
    "if CLOUD:\n",
    "    import os\n",
    "    os.environ['KAGGLE_USERNAME'] = \"your_kaggle_username\"\n",
    "    os.environ['KAGGLE_KEY']      = \"your_kaggle_api_key\"  # See https://www.kaggle.com/docs/api\n",
    "    !pip install --upgrade kaggle\n",
    "    !kaggle competitions download -c titanic\n",
    "    DATA_PATH = \"./\"\n",
    "\n",
    "else:\n",
    "    DATA_PATH = \"../../datasets/titanic/\""
   ]
  },
  {
   "cell_type": "markdown",
   "metadata": {},
   "source": [
    "## Load data"
   ]
  },
  {
   "cell_type": "code",
   "execution_count": 5,
   "metadata": {
    "colab": {},
    "colab_type": "code",
    "id": "wAy8TnVPJV8S"
   },
   "outputs": [
    {
     "name": "stdout",
     "output_type": "stream",
     "text": [
      "Train DataFrame: (891, 11)\n",
      "Test DataFrame:  (418, 10)\n"
     ]
    }
   ],
   "source": [
    "df      = pd.read_csv(DATA_PATH + \"train.csv\", index_col='PassengerId')\n",
    "df_test = pd.read_csv(DATA_PATH + \"test.csv\",  index_col='PassengerId')\n",
    "\n",
    "print(\"Train DataFrame:\", df.shape)\n",
    "print(\"Test DataFrame: \", df_test.shape)"
   ]
  },
  {
   "cell_type": "markdown",
   "metadata": {},
   "source": [
    "## Check missings"
   ]
  },
  {
   "cell_type": "code",
   "execution_count": 6,
   "metadata": {},
   "outputs": [
    {
     "data": {
      "text/plain": [
       "Survived      0\n",
       "Pclass        0\n",
       "Name          0\n",
       "Sex           0\n",
       "Age         177\n",
       "SibSp         0\n",
       "Parch         0\n",
       "Ticket        0\n",
       "Fare          0\n",
       "Cabin       687\n",
       "Embarked      2\n",
       "dtype: int64"
      ]
     },
     "execution_count": 6,
     "metadata": {},
     "output_type": "execute_result"
    }
   ],
   "source": [
    "df.isnull().sum()"
   ]
  },
  {
   "cell_type": "code",
   "execution_count": 7,
   "metadata": {},
   "outputs": [
    {
     "data": {
      "text/plain": [
       "Pclass        0\n",
       "Name          0\n",
       "Sex           0\n",
       "Age          86\n",
       "SibSp         0\n",
       "Parch         0\n",
       "Ticket        0\n",
       "Fare          1\n",
       "Cabin       327\n",
       "Embarked      0\n",
       "dtype: int64"
      ]
     },
     "execution_count": 7,
     "metadata": {},
     "output_type": "execute_result"
    }
   ],
   "source": [
    "df_test.isnull().sum()"
   ]
  },
  {
   "cell_type": "markdown",
   "metadata": {},
   "source": [
    "# Exercise 1:\n",
    "Extract the title (Mr, Mrs, ... ) from the \"Name\" column.\n",
    "\n",
    "Tips:\n",
    "- split(',')[1] to get the 2nd part, and remove the surnamename\n",
    "- split('.')[0] to get the 1str part, and remove the name"
   ]
  },
  {
   "cell_type": "code",
   "execution_count": 33,
   "metadata": {},
   "outputs": [
    {
     "name": "stdout",
     "output_type": "stream",
     "text": [
      "PassengerId\n",
      "1        Mr\n",
      "2       Mrs\n",
      "3      Miss\n",
      "4       Mrs\n",
      "5        Mr\n",
      "       ... \n",
      "887     Rev\n",
      "888    Miss\n",
      "889    Miss\n",
      "890      Mr\n",
      "891      Mr\n",
      "Name: Title, Length: 891, dtype: object\n"
     ]
    }
   ],
   "source": [
    "# CODE HERE get_Title_from_Name funtion\n",
    "def get_title(name):\n",
    "    return name.split(',')[1].split('.')[0].strip()\n",
    "    \n",
    "\n",
    "df[\"Title\"]      = df['Name'].map(get_title)\n",
    "df_test[\"Title\"] = df_test['Name'].map(get_title)\n",
    "print(df[\"Title\"] )\n",
    "#print(df_test[\"Title\"])"
   ]
  },
  {
   "cell_type": "markdown",
   "metadata": {},
   "source": [
    "# Exercise 2:\n",
    "Apply the title_dictionary to get a better information about the title. You have to overwrite the Title variable."
   ]
  },
  {
   "cell_type": "code",
   "execution_count": 17,
   "metadata": {},
   "outputs": [],
   "source": [
    "title_dictionary = {\n",
    "    \"Capt\": \"Officer\",\n",
    "    \"Col\": \"Officer\",\n",
    "    \"Major\": \"Officer\",\n",
    "    \"Jonkheer\": \"Royalty\",\n",
    "    \"Don\": \"Royalty\",\n",
    "    \"Sir\" : \"Royalty\",\n",
    "    \"Dr\": \"Officer\",\n",
    "    \"Rev\": \"Officer\",\n",
    "    \"the Countess\":\"Royalty\",\n",
    "    \"Mme\": \"Mrs\",\n",
    "    \"Mlle\": \"Miss\",\n",
    "    \"Ms\": \"Mrs\",\n",
    "    \"Mr\" : \"Mr\",\n",
    "    \"Mrs\" : \"Mrs\",\n",
    "    \"Miss\" : \"Miss\",\n",
    "    \"Master\" : \"Master\",\n",
    "    \"Lady\" : \"Royalty\"\n",
    "}"
   ]
  },
  {
   "cell_type": "code",
   "execution_count": 38,
   "metadata": {},
   "outputs": [
    {
     "name": "stdout",
     "output_type": "stream",
     "text": [
      "PassengerId\n",
      "892         Mr\n",
      "893        Mrs\n",
      "894         Mr\n",
      "895         Mr\n",
      "896        Mrs\n",
      "         ...  \n",
      "1305        Mr\n",
      "1306       NaN\n",
      "1307        Mr\n",
      "1308        Mr\n",
      "1309    Master\n",
      "Name: Title, Length: 418, dtype: object\n"
     ]
    }
   ],
   "source": [
    "# CODE HERE\n",
    "\n",
    "df[\"Title\"] = df[\"Title\"].replace(title_dictionary)\n",
    "df_test[\"Title\"] = df_test[\"Title\"].replace(title_dictionary)\n",
    "#print(df[\"Title\"])\n",
    "print(df_test[\"Title\"])"
   ]
  },
  {
   "cell_type": "markdown",
   "metadata": {},
   "source": [
    "# Exercise BONUS:\n",
    "Try to extract some information from the feature **Ticket**"
   ]
  },
  {
   "cell_type": "code",
   "execution_count": null,
   "metadata": {},
   "outputs": [],
   "source": [
    "def get_title():\n",
    "    return name.split(',')[1].split('.')[0].strip()"
   ]
  },
  {
   "cell_type": "markdown",
   "metadata": {},
   "source": [
    "# Exercise BONUS:\n",
    "Try to extract some information from the feature **Cabin**"
   ]
  },
  {
   "cell_type": "code",
   "execution_count": null,
   "metadata": {},
   "outputs": [],
   "source": []
  },
  {
   "cell_type": "markdown",
   "metadata": {},
   "source": [
    "# Preprocessing\n",
    "For X data:\n",
    "- We drop Survived because is the target variable\n",
    "- We drop Name because we have extracted the Title: Mr, Mrs, ...\n",
    "- We drop Ticket because it has no information -> see df.Ticket.nunique()\n",
    "- We drop Cabin because it has a lot of missings (77% are missings)\n",
    "\n",
    "Then, we identify **numerical** variables and **categorical** variables,"
   ]
  },
  {
   "cell_type": "code",
   "execution_count": 39,
   "metadata": {},
   "outputs": [],
   "source": [
    "x = df.drop(columns=[\"Survived\", 'Name', 'Ticket', 'Cabin']) # X DATA (WILL BE TRAIN+VALID DATA)\n",
    "y = df[\"Survived\"] # 0 = No, 1 = Yes\n",
    "\n",
    "x_test = df_test.drop(columns=['Name', 'Ticket', 'Cabin']) # # X_TEST DATA (NEW DATA)"
   ]
  },
  {
   "cell_type": "code",
   "execution_count": 41,
   "metadata": {},
   "outputs": [
    {
     "name": "stdout",
     "output_type": "stream",
     "text": [
      "\n",
      "Numerical features:\n",
      " ['Pclass', 'SibSp', 'Parch', 'Fare', 'Age']\n",
      "\n",
      "Categorical features:\n",
      " ['Sex', 'Embarked', 'Title']\n"
     ]
    }
   ],
   "source": [
    "cat_vars  = ['Sex', 'Embarked', 'Title']         # x.select_dtypes(include=[object]).columns.values.tolist()\n",
    "num_vars  = ['Pclass', 'SibSp', 'Parch', 'Fare', 'Age'] # x.select_dtypes(exclude=[object]).columns.values.tolist()\n",
    "\n",
    "print(\"\\nNumerical features:\\n\", num_vars)\n",
    "print(\"\\nCategorical features:\\n\", cat_vars)"
   ]
  },
  {
   "cell_type": "markdown",
   "metadata": {},
   "source": [
    "# Exercise 3:\n",
    "Create a **ColumnTransformer for Tree Models**. Remember:\n",
    "- Categorical: Some SimpleImputer -> Some Encoder\n",
    "- Numerical: Some SimpleImputer -> NO Encoder"
   ]
  },
  {
   "cell_type": "code",
   "execution_count": 43,
   "metadata": {},
   "outputs": [
    {
     "data": {
      "text/html": [
       "<style>div.sk-top-container {color: black;background-color: white;}div.sk-toggleable {background-color: white;}label.sk-toggleable__label {cursor: pointer;display: block;width: 100%;margin-bottom: 0;padding: 0.2em 0.3em;box-sizing: border-box;text-align: center;}div.sk-toggleable__content {max-height: 0;max-width: 0;overflow: hidden;text-align: left;background-color: #f0f8ff;}div.sk-toggleable__content pre {margin: 0.2em;color: black;border-radius: 0.25em;background-color: #f0f8ff;}input.sk-toggleable__control:checked~div.sk-toggleable__content {max-height: 200px;max-width: 100%;overflow: auto;}div.sk-estimator input.sk-toggleable__control:checked~label.sk-toggleable__label {background-color: #d4ebff;}div.sk-label input.sk-toggleable__control:checked~label.sk-toggleable__label {background-color: #d4ebff;}input.sk-hidden--visually {border: 0;clip: rect(1px 1px 1px 1px);clip: rect(1px, 1px, 1px, 1px);height: 1px;margin: -1px;overflow: hidden;padding: 0;position: absolute;width: 1px;}div.sk-estimator {font-family: monospace;background-color: #f0f8ff;margin: 0.25em 0.25em;border: 1px dotted black;border-radius: 0.25em;box-sizing: border-box;}div.sk-estimator:hover {background-color: #d4ebff;}div.sk-parallel-item::after {content: \"\";width: 100%;border-bottom: 1px solid gray;flex-grow: 1;}div.sk-label:hover label.sk-toggleable__label {background-color: #d4ebff;}div.sk-serial::before {content: \"\";position: absolute;border-left: 1px solid gray;box-sizing: border-box;top: 2em;bottom: 0;left: 50%;}div.sk-serial {display: flex;flex-direction: column;align-items: center;background-color: white;}div.sk-item {z-index: 1;}div.sk-parallel {display: flex;align-items: stretch;justify-content: center;background-color: white;}div.sk-parallel-item {display: flex;flex-direction: column;position: relative;background-color: white;}div.sk-parallel-item:first-child::after {align-self: flex-end;width: 50%;}div.sk-parallel-item:last-child::after {align-self: flex-start;width: 50%;}div.sk-parallel-item:only-child::after {width: 0;}div.sk-dashed-wrapped {border: 1px dashed gray;margin: 0.2em;box-sizing: border-box;padding-bottom: 0.1em;background-color: white;position: relative;}div.sk-label label {font-family: monospace;font-weight: bold;background-color: white;display: inline-block;line-height: 1.2em;}div.sk-label-container {position: relative;z-index: 2;text-align: center;}div.sk-container {display: inline-block;position: relative;}</style><div class=\"sk-top-container\"><div class=\"sk-container\"><div class=\"sk-item sk-dashed-wrapped\"><div class=\"sk-label-container\"><div class=\"sk-label sk-toggleable\"><input class=\"sk-toggleable__control sk-hidden--visually\" id=\"bc3f4bb0-eeae-4780-ac32-cd0e7d45efeb\" type=\"checkbox\" ><label class=\"sk-toggleable__label\" for=\"bc3f4bb0-eeae-4780-ac32-cd0e7d45efeb\">ColumnTransformer</label><div class=\"sk-toggleable__content\"><pre>ColumnTransformer(transformers=[('num',\n",
       "                                 Pipeline(steps=[('imputer',\n",
       "                                                  SimpleImputer(fill_value=-9999))]),\n",
       "                                 ['Pclass', 'SibSp', 'Parch', 'Fare', 'Age']),\n",
       "                                ('cat',\n",
       "                                 Pipeline(steps=[('imputer',\n",
       "                                                  SimpleImputer(fill_value='missing',\n",
       "                                                                strategy='constant')),\n",
       "                                                 ('ordinal',\n",
       "                                                  OneHotEncoder(handle_unknown='ignore'))]),\n",
       "                                 ['Sex', 'Embarked', 'Title'])])</pre></div></div></div><div class=\"sk-parallel\"><div class=\"sk-parallel-item\"><div class=\"sk-item\"><div class=\"sk-label-container\"><div class=\"sk-label sk-toggleable\"><input class=\"sk-toggleable__control sk-hidden--visually\" id=\"99c77511-94d5-4718-920e-dcece4bb12ea\" type=\"checkbox\" ><label class=\"sk-toggleable__label\" for=\"99c77511-94d5-4718-920e-dcece4bb12ea\">num</label><div class=\"sk-toggleable__content\"><pre>['Pclass', 'SibSp', 'Parch', 'Fare', 'Age']</pre></div></div></div><div class=\"sk-serial\"><div class=\"sk-item\"><div class=\"sk-serial\"><div class=\"sk-item\"><div class=\"sk-estimator sk-toggleable\"><input class=\"sk-toggleable__control sk-hidden--visually\" id=\"b29d37d0-26dc-4f01-a849-7f4e569092dd\" type=\"checkbox\" ><label class=\"sk-toggleable__label\" for=\"b29d37d0-26dc-4f01-a849-7f4e569092dd\">SimpleImputer</label><div class=\"sk-toggleable__content\"><pre>SimpleImputer(fill_value=-9999)</pre></div></div></div></div></div></div></div></div><div class=\"sk-parallel-item\"><div class=\"sk-item\"><div class=\"sk-label-container\"><div class=\"sk-label sk-toggleable\"><input class=\"sk-toggleable__control sk-hidden--visually\" id=\"dde61e8f-6f73-4a0a-92ce-e6a21c82bcb2\" type=\"checkbox\" ><label class=\"sk-toggleable__label\" for=\"dde61e8f-6f73-4a0a-92ce-e6a21c82bcb2\">cat</label><div class=\"sk-toggleable__content\"><pre>['Sex', 'Embarked', 'Title']</pre></div></div></div><div class=\"sk-serial\"><div class=\"sk-item\"><div class=\"sk-serial\"><div class=\"sk-item\"><div class=\"sk-estimator sk-toggleable\"><input class=\"sk-toggleable__control sk-hidden--visually\" id=\"bb54c25a-6827-4e99-b270-c57eca2c9817\" type=\"checkbox\" ><label class=\"sk-toggleable__label\" for=\"bb54c25a-6827-4e99-b270-c57eca2c9817\">SimpleImputer</label><div class=\"sk-toggleable__content\"><pre>SimpleImputer(fill_value='missing', strategy='constant')</pre></div></div></div><div class=\"sk-item\"><div class=\"sk-estimator sk-toggleable\"><input class=\"sk-toggleable__control sk-hidden--visually\" id=\"7a05e111-2828-4d25-8059-bcaa2daf287f\" type=\"checkbox\" ><label class=\"sk-toggleable__label\" for=\"7a05e111-2828-4d25-8059-bcaa2daf287f\">OneHotEncoder</label><div class=\"sk-toggleable__content\"><pre>OneHotEncoder(handle_unknown='ignore')</pre></div></div></div></div></div></div></div></div></div></div></div></div>"
      ],
      "text/plain": [
       "ColumnTransformer(transformers=[('num',\n",
       "                                 Pipeline(steps=[('imputer',\n",
       "                                                  SimpleImputer(fill_value=-9999))]),\n",
       "                                 ['Pclass', 'SibSp', 'Parch', 'Fare', 'Age']),\n",
       "                                ('cat',\n",
       "                                 Pipeline(steps=[('imputer',\n",
       "                                                  SimpleImputer(fill_value='missing',\n",
       "                                                                strategy='constant')),\n",
       "                                                 ('ordinal',\n",
       "                                                  OneHotEncoder(handle_unknown='ignore'))]),\n",
       "                                 ['Sex', 'Embarked', 'Title'])])"
      ]
     },
     "execution_count": 43,
     "metadata": {},
     "output_type": "execute_result"
    }
   ],
   "source": [
    "num_preprocessing = pipeline.Pipeline(steps=[\n",
    "    ('imputer', impute.SimpleImputer(strategy='mean', fill_value=-9999)), \n",
    "])\n",
    "\n",
    "cat_preporcessing = pipeline.Pipeline(steps=[\n",
    "  ('imputer', impute.SimpleImputer(strategy='constant', fill_value='missing')),\n",
    "    ('ordinal', preprocessing.OneHotEncoder(handle_unknown='ignore'))\n",
    "])\n",
    "\n",
    "tree_prepro = compose.ColumnTransformer(transformers=[\n",
    "    ('num', num_preprocessing, num_vars),\n",
    "    ('cat', cat_preporcessing, cat_vars),\n",
    "], remainder='drop') # Drop other vars not specified in num_vars or cat_vars\n",
    "\n",
    "tree_prepro"
   ]
  },
  {
   "cell_type": "markdown",
   "metadata": {},
   "source": [
    "# Exercise 4\n",
    "1. Complete the diccionary with some Tree Models.\n",
    "2. Then we put each model in a Pipeline where:\n",
    "   - first is the prepocessing with the column Transformer\n",
    "   - Then is the Tree model\n",
    "3. Display the fullpipeline of the LGBMClassifier"
   ]
  },
  {
   "cell_type": "code",
   "execution_count": 58,
   "metadata": {},
   "outputs": [
    {
     "name": "stdout",
     "output_type": "stream",
     "text": [
      "Requirement already satisfied: XGBoost in c:\\users\\oolus\\anaconda3\\lib\\site-packages (1.3.3)\n",
      "Requirement already satisfied: numpy in c:\\users\\oolus\\anaconda3\\lib\\site-packages (from XGBoost) (1.19.5)\n",
      "Requirement already satisfied: scipy in c:\\users\\oolus\\anaconda3\\lib\\site-packages (from XGBoost) (1.5.0)\n"
     ]
    }
   ],
   "source": [
    "!pip install XGBoost\n"
   ]
  },
  {
   "cell_type": "code",
   "execution_count": 60,
   "metadata": {},
   "outputs": [
    {
     "name": "stdout",
     "output_type": "stream",
     "text": [
      "Requirement already satisfied: lightgbm in c:\\users\\oolus\\anaconda3\\lib\\site-packages (3.1.1)\n",
      "Requirement already satisfied: wheel in c:\\users\\oolus\\anaconda3\\lib\\site-packages (from lightgbm) (0.36.2)\n",
      "Requirement already satisfied: scipy in c:\\users\\oolus\\anaconda3\\lib\\site-packages (from lightgbm) (1.5.0)\n",
      "Requirement already satisfied: numpy in c:\\users\\oolus\\anaconda3\\lib\\site-packages (from lightgbm) (1.19.5)\n",
      "Requirement already satisfied: scikit-learn!=0.22.0 in c:\\users\\oolus\\anaconda3\\lib\\site-packages (from lightgbm) (0.23.1)\n",
      "Requirement already satisfied: joblib>=0.11 in c:\\users\\oolus\\anaconda3\\lib\\site-packages (from scikit-learn!=0.22.0->lightgbm) (0.16.0)\n",
      "Requirement already satisfied: threadpoolctl>=2.0.0 in c:\\users\\oolus\\anaconda3\\lib\\site-packages (from scikit-learn!=0.22.0->lightgbm) (2.1.0)\n"
     ]
    }
   ],
   "source": [
    "!pip install lightgbm"
   ]
  },
  {
   "cell_type": "code",
   "execution_count": 62,
   "metadata": {},
   "outputs": [
    {
     "name": "stdout",
     "output_type": "stream",
     "text": [
      "Collecting catboost\n",
      "  Downloading catboost-0.24.4-cp38-none-win_amd64.whl (65.4 MB)\n",
      "Collecting plotly\n",
      "  Downloading plotly-4.14.3-py2.py3-none-any.whl (13.2 MB)\n",
      "Collecting graphviz\n",
      "  Downloading graphviz-0.16-py2.py3-none-any.whl (19 kB)\n",
      "Requirement already satisfied: numpy>=1.16.0 in c:\\users\\oolus\\anaconda3\\lib\\site-packages (from catboost) (1.19.5)\n",
      "Requirement already satisfied: six in c:\\users\\oolus\\anaconda3\\lib\\site-packages (from catboost) (1.15.0)\n",
      "Requirement already satisfied: pandas>=0.24.0 in c:\\users\\oolus\\anaconda3\\lib\\site-packages (from catboost) (1.0.5)\n",
      "Requirement already satisfied: scipy in c:\\users\\oolus\\anaconda3\\lib\\site-packages (from catboost) (1.5.0)\n",
      "Requirement already satisfied: matplotlib in c:\\users\\oolus\\anaconda3\\lib\\site-packages (from catboost) (3.2.2)\n",
      "Collecting retrying>=1.3.3\n",
      "  Downloading retrying-1.3.3.tar.gz (10 kB)\n",
      "Requirement already satisfied: python-dateutil>=2.6.1 in c:\\users\\oolus\\anaconda3\\lib\\site-packages (from pandas>=0.24.0->catboost) (2.8.1)\n",
      "Requirement already satisfied: pytz>=2017.2 in c:\\users\\oolus\\anaconda3\\lib\\site-packages (from pandas>=0.24.0->catboost) (2020.1)\n",
      "Requirement already satisfied: cycler>=0.10 in c:\\users\\oolus\\anaconda3\\lib\\site-packages (from matplotlib->catboost) (0.10.0)\n",
      "Requirement already satisfied: kiwisolver>=1.0.1 in c:\\users\\oolus\\anaconda3\\lib\\site-packages (from matplotlib->catboost) (1.2.0)\n",
      "Requirement already satisfied: pyparsing!=2.0.4,!=2.1.2,!=2.1.6,>=2.0.1 in c:\\users\\oolus\\anaconda3\\lib\\site-packages (from matplotlib->catboost) (2.4.7)\n",
      "Building wheels for collected packages: retrying\n",
      "  Building wheel for retrying (setup.py): started\n",
      "  Building wheel for retrying (setup.py): finished with status 'done'\n",
      "  Created wheel for retrying: filename=retrying-1.3.3-py3-none-any.whl size=11429 sha256=a1dafe814915225ec1b49dcf0e7e841d6181d5b41aefbfe70bf640e7ef44a6a0\n",
      "  Stored in directory: c:\\users\\oolus\\appdata\\local\\pip\\cache\\wheels\\c4\\a7\\48\\0a434133f6d56e878ca511c0e6c38326907c0792f67b476e56\n",
      "Successfully built retrying\n",
      "Installing collected packages: retrying, plotly, graphviz, catboost\n",
      "Successfully installed catboost-0.24.4 graphviz-0.16 plotly-4.14.3 retrying-1.3.3\n"
     ]
    }
   ],
   "source": [
    "!pip install catboost"
   ]
  },
  {
   "cell_type": "code",
   "execution_count": 64,
   "metadata": {},
   "outputs": [],
   "source": [
    "from sklearn.tree          import DecisionTreeClassifier\n",
    "from sklearn.ensemble      import RandomForestClassifier\n",
    "from sklearn.ensemble      import ExtraTreesClassifier\n",
    "from sklearn.ensemble      import AdaBoostClassifier\n",
    "from sklearn.ensemble      import GradientBoostingClassifier\n",
    "from sklearn.experimental  import enable_hist_gradient_boosting # Necesary for HistGradientBoostingClassifier\n",
    "from sklearn.ensemble      import HistGradientBoostingClassifier\n",
    "#from XGBoost               import XGBClassifier\n",
    "from lightgbm              import LGBMClassifier\n",
    "from catboost              import CatBoostClassifier"
   ]
  },
  {
   "cell_type": "code",
   "execution_count": 68,
   "metadata": {},
   "outputs": [],
   "source": [
    "tree_classifiers = {\n",
    "  \"Decision Tree\": DecisionTreeClassifier(),\n",
    "  \"Extra Trees\":   ExtraTreesClassifier(n_estimators=100),\n",
    "  \"Random Forest\": RandomForestClassifier(n_estimators=100),\n",
    "  \"AdaBoost\":      AdaBoostClassifier(n_estimators=100),\n",
    "  \"Skl GBM\":       GradientBoostingClassifier(n_estimators=100),\n",
    "  \"Skl HistGBM\":   HistGradientBoostingClassifier(max_iter=100),\n",
    "  #\"XGBoost\":\n",
    "  \"LightGBM\":      LGBMClassifier(n_estimators=100),\n",
    "  \"CatBoost\":      CatBoostClassifier(n_estimators=100),\n",
    "}\n",
    "\n",
    "tree_classifiers = {name: pipeline.make_pipeline(tree_prepro, model) for name, model in tree_classifiers.items()}\n"
   ]
  },
  {
   "cell_type": "code",
   "execution_count": 70,
   "metadata": {},
   "outputs": [
    {
     "data": {
      "text/html": [
       "<style>div.sk-top-container {color: black;background-color: white;}div.sk-toggleable {background-color: white;}label.sk-toggleable__label {cursor: pointer;display: block;width: 100%;margin-bottom: 0;padding: 0.2em 0.3em;box-sizing: border-box;text-align: center;}div.sk-toggleable__content {max-height: 0;max-width: 0;overflow: hidden;text-align: left;background-color: #f0f8ff;}div.sk-toggleable__content pre {margin: 0.2em;color: black;border-radius: 0.25em;background-color: #f0f8ff;}input.sk-toggleable__control:checked~div.sk-toggleable__content {max-height: 200px;max-width: 100%;overflow: auto;}div.sk-estimator input.sk-toggleable__control:checked~label.sk-toggleable__label {background-color: #d4ebff;}div.sk-label input.sk-toggleable__control:checked~label.sk-toggleable__label {background-color: #d4ebff;}input.sk-hidden--visually {border: 0;clip: rect(1px 1px 1px 1px);clip: rect(1px, 1px, 1px, 1px);height: 1px;margin: -1px;overflow: hidden;padding: 0;position: absolute;width: 1px;}div.sk-estimator {font-family: monospace;background-color: #f0f8ff;margin: 0.25em 0.25em;border: 1px dotted black;border-radius: 0.25em;box-sizing: border-box;}div.sk-estimator:hover {background-color: #d4ebff;}div.sk-parallel-item::after {content: \"\";width: 100%;border-bottom: 1px solid gray;flex-grow: 1;}div.sk-label:hover label.sk-toggleable__label {background-color: #d4ebff;}div.sk-serial::before {content: \"\";position: absolute;border-left: 1px solid gray;box-sizing: border-box;top: 2em;bottom: 0;left: 50%;}div.sk-serial {display: flex;flex-direction: column;align-items: center;background-color: white;}div.sk-item {z-index: 1;}div.sk-parallel {display: flex;align-items: stretch;justify-content: center;background-color: white;}div.sk-parallel-item {display: flex;flex-direction: column;position: relative;background-color: white;}div.sk-parallel-item:first-child::after {align-self: flex-end;width: 50%;}div.sk-parallel-item:last-child::after {align-self: flex-start;width: 50%;}div.sk-parallel-item:only-child::after {width: 0;}div.sk-dashed-wrapped {border: 1px dashed gray;margin: 0.2em;box-sizing: border-box;padding-bottom: 0.1em;background-color: white;position: relative;}div.sk-label label {font-family: monospace;font-weight: bold;background-color: white;display: inline-block;line-height: 1.2em;}div.sk-label-container {position: relative;z-index: 2;text-align: center;}div.sk-container {display: inline-block;position: relative;}</style><div class=\"sk-top-container\"><div class=\"sk-container\"><div class=\"sk-item sk-dashed-wrapped\"><div class=\"sk-label-container\"><div class=\"sk-label sk-toggleable\"><input class=\"sk-toggleable__control sk-hidden--visually\" id=\"a0a65080-91f0-478b-a96e-ddf7086c2e27\" type=\"checkbox\" ><label class=\"sk-toggleable__label\" for=\"a0a65080-91f0-478b-a96e-ddf7086c2e27\">Pipeline</label><div class=\"sk-toggleable__content\"><pre>Pipeline(steps=[('columntransformer',\n",
       "                 ColumnTransformer(transformers=[('num',\n",
       "                                                  Pipeline(steps=[('imputer',\n",
       "                                                                   SimpleImputer(fill_value=-9999))]),\n",
       "                                                  ['Pclass', 'SibSp', 'Parch',\n",
       "                                                   'Fare', 'Age']),\n",
       "                                                 ('cat',\n",
       "                                                  Pipeline(steps=[('imputer',\n",
       "                                                                   SimpleImputer(fill_value='missing',\n",
       "                                                                                 strategy='constant')),\n",
       "                                                                  ('ordinal',\n",
       "                                                                   OneHotEncoder(handle_unknown='ignore'))]),\n",
       "                                                  ['Sex', 'Embarked',\n",
       "                                                   'Title'])])),\n",
       "                ('lgbmclassifier', LGBMClassifier())])</pre></div></div></div><div class=\"sk-serial\"><div class=\"sk-item sk-dashed-wrapped\"><div class=\"sk-label-container\"><div class=\"sk-label sk-toggleable\"><input class=\"sk-toggleable__control sk-hidden--visually\" id=\"c493bd1b-884c-43a8-ae08-9bb818ffd6b1\" type=\"checkbox\" ><label class=\"sk-toggleable__label\" for=\"c493bd1b-884c-43a8-ae08-9bb818ffd6b1\">columntransformer: ColumnTransformer</label><div class=\"sk-toggleable__content\"><pre>ColumnTransformer(transformers=[('num',\n",
       "                                 Pipeline(steps=[('imputer',\n",
       "                                                  SimpleImputer(fill_value=-9999))]),\n",
       "                                 ['Pclass', 'SibSp', 'Parch', 'Fare', 'Age']),\n",
       "                                ('cat',\n",
       "                                 Pipeline(steps=[('imputer',\n",
       "                                                  SimpleImputer(fill_value='missing',\n",
       "                                                                strategy='constant')),\n",
       "                                                 ('ordinal',\n",
       "                                                  OneHotEncoder(handle_unknown='ignore'))]),\n",
       "                                 ['Sex', 'Embarked', 'Title'])])</pre></div></div></div><div class=\"sk-parallel\"><div class=\"sk-parallel-item\"><div class=\"sk-item\"><div class=\"sk-label-container\"><div class=\"sk-label sk-toggleable\"><input class=\"sk-toggleable__control sk-hidden--visually\" id=\"93bd33b5-d7ee-47b5-a14e-b94cf950cefc\" type=\"checkbox\" ><label class=\"sk-toggleable__label\" for=\"93bd33b5-d7ee-47b5-a14e-b94cf950cefc\">num</label><div class=\"sk-toggleable__content\"><pre>['Pclass', 'SibSp', 'Parch', 'Fare', 'Age']</pre></div></div></div><div class=\"sk-serial\"><div class=\"sk-item\"><div class=\"sk-serial\"><div class=\"sk-item\"><div class=\"sk-estimator sk-toggleable\"><input class=\"sk-toggleable__control sk-hidden--visually\" id=\"6bc7a726-b417-4632-97d6-e1b79e9c095a\" type=\"checkbox\" ><label class=\"sk-toggleable__label\" for=\"6bc7a726-b417-4632-97d6-e1b79e9c095a\">SimpleImputer</label><div class=\"sk-toggleable__content\"><pre>SimpleImputer(fill_value=-9999)</pre></div></div></div></div></div></div></div></div><div class=\"sk-parallel-item\"><div class=\"sk-item\"><div class=\"sk-label-container\"><div class=\"sk-label sk-toggleable\"><input class=\"sk-toggleable__control sk-hidden--visually\" id=\"596cfbd1-619a-4171-a080-2483bb177b38\" type=\"checkbox\" ><label class=\"sk-toggleable__label\" for=\"596cfbd1-619a-4171-a080-2483bb177b38\">cat</label><div class=\"sk-toggleable__content\"><pre>['Sex', 'Embarked', 'Title']</pre></div></div></div><div class=\"sk-serial\"><div class=\"sk-item\"><div class=\"sk-serial\"><div class=\"sk-item\"><div class=\"sk-estimator sk-toggleable\"><input class=\"sk-toggleable__control sk-hidden--visually\" id=\"1a9f665d-5f5f-47a8-aaed-768acfb0f476\" type=\"checkbox\" ><label class=\"sk-toggleable__label\" for=\"1a9f665d-5f5f-47a8-aaed-768acfb0f476\">SimpleImputer</label><div class=\"sk-toggleable__content\"><pre>SimpleImputer(fill_value='missing', strategy='constant')</pre></div></div></div><div class=\"sk-item\"><div class=\"sk-estimator sk-toggleable\"><input class=\"sk-toggleable__control sk-hidden--visually\" id=\"028e6e32-28ee-40fe-aa8f-93ee4d710354\" type=\"checkbox\" ><label class=\"sk-toggleable__label\" for=\"028e6e32-28ee-40fe-aa8f-93ee4d710354\">OneHotEncoder</label><div class=\"sk-toggleable__content\"><pre>OneHotEncoder(handle_unknown='ignore')</pre></div></div></div></div></div></div></div></div></div></div><div class=\"sk-item\"><div class=\"sk-estimator sk-toggleable\"><input class=\"sk-toggleable__control sk-hidden--visually\" id=\"6cf53984-00c0-451d-a1c9-d6bcc4e2c9c1\" type=\"checkbox\" ><label class=\"sk-toggleable__label\" for=\"6cf53984-00c0-451d-a1c9-d6bcc4e2c9c1\">LGBMClassifier</label><div class=\"sk-toggleable__content\"><pre>LGBMClassifier()</pre></div></div></div></div></div></div></div>"
      ],
      "text/plain": [
       "Pipeline(steps=[('columntransformer',\n",
       "                 ColumnTransformer(transformers=[('num',\n",
       "                                                  Pipeline(steps=[('imputer',\n",
       "                                                                   SimpleImputer(fill_value=-9999))]),\n",
       "                                                  ['Pclass', 'SibSp', 'Parch',\n",
       "                                                   'Fare', 'Age']),\n",
       "                                                 ('cat',\n",
       "                                                  Pipeline(steps=[('imputer',\n",
       "                                                                   SimpleImputer(fill_value='missing',\n",
       "                                                                                 strategy='constant')),\n",
       "                                                                  ('ordinal',\n",
       "                                                                   OneHotEncoder(handle_unknown='ignore'))]),\n",
       "                                                  ['Sex', 'Embarked',\n",
       "                                                   'Title'])])),\n",
       "                ('lgbmclassifier', LGBMClassifier())])"
      ]
     },
     "execution_count": 70,
     "metadata": {},
     "output_type": "execute_result"
    }
   ],
   "source": [
    "tree_classifiers[\"LightGBM\"]"
   ]
  },
  {
   "cell_type": "markdown",
   "metadata": {},
   "source": [
    "# Exercise 5:\n",
    "Define a simple split validation strategy with:\n",
    "- 80% for train\n",
    "- 20% for validation\n",
    "- With stratification\n",
    "- random_state=0\n",
    "\n",
    "And train all the models in a for loop"
   ]
  },
  {
   "cell_type": "code",
   "execution_count": 82,
   "metadata": {},
   "outputs": [
    {
     "data": {
      "text/html": [
       "<style  type=\"text/css\" >\n",
       "    #T_f15e15b8_64bf_11eb_813a_a65aedf9df0erow0_col1 {\n",
       "            width:  10em;\n",
       "             height:  80%;\n",
       "            background:  linear-gradient(90deg,#d65f5f 100.0%, transparent 100.0%);\n",
       "        }    #T_f15e15b8_64bf_11eb_813a_a65aedf9df0erow0_col2 {\n",
       "            width:  10em;\n",
       "             height:  80%;\n",
       "            background:  linear-gradient(90deg,#d65f5f 100.0%, transparent 100.0%);\n",
       "        }    #T_f15e15b8_64bf_11eb_813a_a65aedf9df0erow1_col1 {\n",
       "            width:  10em;\n",
       "             height:  80%;\n",
       "            background:  linear-gradient(90deg,#d65f5f 60.0%, transparent 60.0%);\n",
       "        }    #T_f15e15b8_64bf_11eb_813a_a65aedf9df0erow1_col2 {\n",
       "            width:  10em;\n",
       "             height:  80%;\n",
       "            background:  linear-gradient(90deg,#d65f5f 58.1%, transparent 58.1%);\n",
       "        }    #T_f15e15b8_64bf_11eb_813a_a65aedf9df0erow2_col1 {\n",
       "            width:  10em;\n",
       "             height:  80%;\n",
       "            background:  linear-gradient(90deg,#d65f5f 53.3%, transparent 53.3%);\n",
       "        }    #T_f15e15b8_64bf_11eb_813a_a65aedf9df0erow2_col2 {\n",
       "            width:  10em;\n",
       "             height:  80%;\n",
       "            background:  linear-gradient(90deg,#d65f5f 52.7%, transparent 52.7%);\n",
       "        }    #T_f15e15b8_64bf_11eb_813a_a65aedf9df0erow3_col1 {\n",
       "            width:  10em;\n",
       "             height:  80%;\n",
       "            background:  linear-gradient(90deg,#d65f5f 46.7%, transparent 46.7%);\n",
       "        }    #T_f15e15b8_64bf_11eb_813a_a65aedf9df0erow3_col2 {\n",
       "            width:  10em;\n",
       "             height:  80%;\n",
       "            background:  linear-gradient(90deg,#d65f5f 40.9%, transparent 40.9%);\n",
       "        }    #T_f15e15b8_64bf_11eb_813a_a65aedf9df0erow4_col1 {\n",
       "            width:  10em;\n",
       "             height:  80%;\n",
       "            background:  linear-gradient(90deg,#d65f5f 40.0%, transparent 40.0%);\n",
       "        }    #T_f15e15b8_64bf_11eb_813a_a65aedf9df0erow4_col2 {\n",
       "            width:  10em;\n",
       "             height:  80%;\n",
       "            background:  linear-gradient(90deg,#d65f5f 45.1%, transparent 45.1%);\n",
       "        }    #T_f15e15b8_64bf_11eb_813a_a65aedf9df0erow5_col1 {\n",
       "            width:  10em;\n",
       "             height:  80%;\n",
       "            background:  linear-gradient(90deg,#d65f5f 33.3%, transparent 33.3%);\n",
       "        }    #T_f15e15b8_64bf_11eb_813a_a65aedf9df0erow5_col2 {\n",
       "            width:  10em;\n",
       "             height:  80%;\n",
       "            background:  linear-gradient(90deg,#d65f5f 30.1%, transparent 30.1%);\n",
       "        }    #T_f15e15b8_64bf_11eb_813a_a65aedf9df0erow6_col1 {\n",
       "            width:  10em;\n",
       "             height:  80%;\n",
       "            background:  linear-gradient(90deg,#d65f5f 13.3%, transparent 13.3%);\n",
       "        }    #T_f15e15b8_64bf_11eb_813a_a65aedf9df0erow6_col2 {\n",
       "            width:  10em;\n",
       "             height:  80%;\n",
       "            background:  linear-gradient(90deg,#d65f5f 20.4%, transparent 20.4%);\n",
       "        }    #T_f15e15b8_64bf_11eb_813a_a65aedf9df0erow7_col1 {\n",
       "            width:  10em;\n",
       "             height:  80%;\n",
       "        }    #T_f15e15b8_64bf_11eb_813a_a65aedf9df0erow7_col2 {\n",
       "            width:  10em;\n",
       "             height:  80%;\n",
       "        }</style><table id=\"T_f15e15b8_64bf_11eb_813a_a65aedf9df0e\" ><thead>    <tr>        <th class=\"blank level0\" ></th>        <th class=\"col_heading level0 col0\" >Model</th>        <th class=\"col_heading level0 col1\" >Accuracy</th>        <th class=\"col_heading level0 col2\" >Bal Acc.</th>        <th class=\"col_heading level0 col3\" >Time</th>    </tr></thead><tbody>\n",
       "                <tr>\n",
       "                        <th id=\"T_f15e15b8_64bf_11eb_813a_a65aedf9df0elevel0_row0\" class=\"row_heading level0 row0\" >1</th>\n",
       "                        <td id=\"T_f15e15b8_64bf_11eb_813a_a65aedf9df0erow0_col0\" class=\"data row0 col0\" >Skl GBM</td>\n",
       "                        <td id=\"T_f15e15b8_64bf_11eb_813a_a65aedf9df0erow0_col1\" class=\"data row0 col1\" >84.357542</td>\n",
       "                        <td id=\"T_f15e15b8_64bf_11eb_813a_a65aedf9df0erow0_col2\" class=\"data row0 col2\" >81.870883</td>\n",
       "                        <td id=\"T_f15e15b8_64bf_11eb_813a_a65aedf9df0erow0_col3\" class=\"data row0 col3\" >0.088763</td>\n",
       "            </tr>\n",
       "            <tr>\n",
       "                        <th id=\"T_f15e15b8_64bf_11eb_813a_a65aedf9df0elevel0_row1\" class=\"row_heading level0 row1\" >2</th>\n",
       "                        <td id=\"T_f15e15b8_64bf_11eb_813a_a65aedf9df0erow1_col0\" class=\"data row1 col0\" >LightGBM</td>\n",
       "                        <td id=\"T_f15e15b8_64bf_11eb_813a_a65aedf9df0erow1_col1\" class=\"data row1 col1\" >81.005587</td>\n",
       "                        <td id=\"T_f15e15b8_64bf_11eb_813a_a65aedf9df0erow1_col2\" class=\"data row1 col2\" >78.333333</td>\n",
       "                        <td id=\"T_f15e15b8_64bf_11eb_813a_a65aedf9df0erow1_col3\" class=\"data row1 col3\" >0.054854</td>\n",
       "            </tr>\n",
       "            <tr>\n",
       "                        <th id=\"T_f15e15b8_64bf_11eb_813a_a65aedf9df0elevel0_row2\" class=\"row_heading level0 row2\" >3</th>\n",
       "                        <td id=\"T_f15e15b8_64bf_11eb_813a_a65aedf9df0erow2_col0\" class=\"data row2 col0\" >Skl HistGBM</td>\n",
       "                        <td id=\"T_f15e15b8_64bf_11eb_813a_a65aedf9df0erow2_col1\" class=\"data row2 col1\" >80.446927</td>\n",
       "                        <td id=\"T_f15e15b8_64bf_11eb_813a_a65aedf9df0erow2_col2\" class=\"data row2 col2\" >77.878788</td>\n",
       "                        <td id=\"T_f15e15b8_64bf_11eb_813a_a65aedf9df0erow2_col3\" class=\"data row2 col3\" >0.471738</td>\n",
       "            </tr>\n",
       "            <tr>\n",
       "                        <th id=\"T_f15e15b8_64bf_11eb_813a_a65aedf9df0elevel0_row3\" class=\"row_heading level0 row3\" >4</th>\n",
       "                        <td id=\"T_f15e15b8_64bf_11eb_813a_a65aedf9df0erow3_col0\" class=\"data row3 col0\" >CatBoost</td>\n",
       "                        <td id=\"T_f15e15b8_64bf_11eb_813a_a65aedf9df0erow3_col1\" class=\"data row3 col1\" >79.888268</td>\n",
       "                        <td id=\"T_f15e15b8_64bf_11eb_813a_a65aedf9df0erow3_col2\" class=\"data row3 col2\" >76.884058</td>\n",
       "                        <td id=\"T_f15e15b8_64bf_11eb_813a_a65aedf9df0erow3_col3\" class=\"data row3 col3\" >0.162640</td>\n",
       "            </tr>\n",
       "            <tr>\n",
       "                        <th id=\"T_f15e15b8_64bf_11eb_813a_a65aedf9df0elevel0_row4\" class=\"row_heading level0 row4\" >5</th>\n",
       "                        <td id=\"T_f15e15b8_64bf_11eb_813a_a65aedf9df0erow4_col0\" class=\"data row4 col0\" >AdaBoost</td>\n",
       "                        <td id=\"T_f15e15b8_64bf_11eb_813a_a65aedf9df0erow4_col1\" class=\"data row4 col1\" >79.329609</td>\n",
       "                        <td id=\"T_f15e15b8_64bf_11eb_813a_a65aedf9df0erow4_col2\" class=\"data row4 col2\" >77.239789</td>\n",
       "                        <td id=\"T_f15e15b8_64bf_11eb_813a_a65aedf9df0erow4_col3\" class=\"data row4 col3\" >0.116709</td>\n",
       "            </tr>\n",
       "            <tr>\n",
       "                        <th id=\"T_f15e15b8_64bf_11eb_813a_a65aedf9df0elevel0_row5\" class=\"row_heading level0 row5\" >6</th>\n",
       "                        <td id=\"T_f15e15b8_64bf_11eb_813a_a65aedf9df0erow5_col0\" class=\"data row5 col0\" >Random Forest</td>\n",
       "                        <td id=\"T_f15e15b8_64bf_11eb_813a_a65aedf9df0erow5_col1\" class=\"data row5 col1\" >78.770950</td>\n",
       "                        <td id=\"T_f15e15b8_64bf_11eb_813a_a65aedf9df0erow5_col2\" class=\"data row5 col2\" >75.974967</td>\n",
       "                        <td id=\"T_f15e15b8_64bf_11eb_813a_a65aedf9df0erow5_col3\" class=\"data row5 col3\" >0.121704</td>\n",
       "            </tr>\n",
       "            <tr>\n",
       "                        <th id=\"T_f15e15b8_64bf_11eb_813a_a65aedf9df0elevel0_row6\" class=\"row_heading level0 row6\" >7</th>\n",
       "                        <td id=\"T_f15e15b8_64bf_11eb_813a_a65aedf9df0erow6_col0\" class=\"data row6 col0\" >Decision Tree</td>\n",
       "                        <td id=\"T_f15e15b8_64bf_11eb_813a_a65aedf9df0erow6_col1\" class=\"data row6 col1\" >77.094972</td>\n",
       "                        <td id=\"T_f15e15b8_64bf_11eb_813a_a65aedf9df0erow6_col2\" class=\"data row6 col2\" >75.151515</td>\n",
       "                        <td id=\"T_f15e15b8_64bf_11eb_813a_a65aedf9df0erow6_col3\" class=\"data row6 col3\" >0.009974</td>\n",
       "            </tr>\n",
       "            <tr>\n",
       "                        <th id=\"T_f15e15b8_64bf_11eb_813a_a65aedf9df0elevel0_row7\" class=\"row_heading level0 row7\" >8</th>\n",
       "                        <td id=\"T_f15e15b8_64bf_11eb_813a_a65aedf9df0erow7_col0\" class=\"data row7 col0\" >Extra Trees</td>\n",
       "                        <td id=\"T_f15e15b8_64bf_11eb_813a_a65aedf9df0erow7_col1\" class=\"data row7 col1\" >75.977654</td>\n",
       "                        <td id=\"T_f15e15b8_64bf_11eb_813a_a65aedf9df0erow7_col2\" class=\"data row7 col2\" >73.432148</td>\n",
       "                        <td id=\"T_f15e15b8_64bf_11eb_813a_a65aedf9df0erow7_col3\" class=\"data row7 col3\" >0.102724</td>\n",
       "            </tr>\n",
       "    </tbody></table>"
      ],
      "text/plain": [
       "<pandas.io.formats.style.Styler at 0x1e24f3ba970>"
      ]
     },
     "metadata": {},
     "output_type": "display_data"
    }
   ],
   "source": [
    "x_train, x_val, y_train, y_val = model_selection.train_test_split(\n",
    "    x,y,\n",
    "    test_size=0.2,\n",
    "    stratify=y,\n",
    "    random_state=0\n",
    ")\n",
    "results= pd.DataFrame({'Model': [], 'Accuracy': [], 'Bal Acc.': [], 'Time': []})\n",
    "\n",
    "for model_name, model in tree_classifiers.items():\n",
    "    \n",
    "    start_time = time.time()\n",
    "    model.fit(x_train,y_train)\n",
    "    total_time = time.time() - start_time\n",
    "    \n",
    "    pred = model.predict(x_val)\n",
    "    \n",
    "    results = results.append({\"Model\":    model_name,\n",
    "                              \"Accuracy\": metrics.accuracy_score(y_val,pred)*100,\n",
    "                              \"Bal Acc.\": metrics.balanced_accuracy_score(y_val,pred)*100,\n",
    "                              \"Time\":     total_time},\n",
    "                               ignore_index=True)\n",
    "    \n",
    "    results_ord = results.sort_values(by=['Accuracy'], ascending=False, ignore_index=True)\n",
    "    results_ord.index += 1\n",
    "    \n",
    "    clear_output(wait=True)\n",
    "    display(results_ord.style.bar(subset=['Accuracy', 'Bal Acc.']))"
   ]
  },
  {
   "cell_type": "code",
   "execution_count": 83,
   "metadata": {},
   "outputs": [
    {
     "data": {
      "text/html": [
       "<div>\n",
       "<style scoped>\n",
       "    .dataframe tbody tr th:only-of-type {\n",
       "        vertical-align: middle;\n",
       "    }\n",
       "\n",
       "    .dataframe tbody tr th {\n",
       "        vertical-align: top;\n",
       "    }\n",
       "\n",
       "    .dataframe thead th {\n",
       "        text-align: right;\n",
       "    }\n",
       "</style>\n",
       "<table border=\"1\" class=\"dataframe\">\n",
       "  <thead>\n",
       "    <tr style=\"text-align: right;\">\n",
       "      <th></th>\n",
       "      <th>Model</th>\n",
       "      <th>Accuracy</th>\n",
       "      <th>Bal Acc.</th>\n",
       "      <th>Time</th>\n",
       "    </tr>\n",
       "  </thead>\n",
       "  <tbody>\n",
       "    <tr>\n",
       "      <th>1</th>\n",
       "      <td>Skl GBM</td>\n",
       "      <td>84.357542</td>\n",
       "      <td>81.870883</td>\n",
       "      <td>0.088763</td>\n",
       "    </tr>\n",
       "    <tr>\n",
       "      <th>2</th>\n",
       "      <td>LightGBM</td>\n",
       "      <td>81.005587</td>\n",
       "      <td>78.333333</td>\n",
       "      <td>0.054854</td>\n",
       "    </tr>\n",
       "    <tr>\n",
       "      <th>3</th>\n",
       "      <td>Skl HistGBM</td>\n",
       "      <td>80.446927</td>\n",
       "      <td>77.878788</td>\n",
       "      <td>0.471738</td>\n",
       "    </tr>\n",
       "    <tr>\n",
       "      <th>4</th>\n",
       "      <td>CatBoost</td>\n",
       "      <td>79.888268</td>\n",
       "      <td>76.884058</td>\n",
       "      <td>0.162640</td>\n",
       "    </tr>\n",
       "    <tr>\n",
       "      <th>5</th>\n",
       "      <td>AdaBoost</td>\n",
       "      <td>79.329609</td>\n",
       "      <td>77.239789</td>\n",
       "      <td>0.116709</td>\n",
       "    </tr>\n",
       "    <tr>\n",
       "      <th>6</th>\n",
       "      <td>Random Forest</td>\n",
       "      <td>78.770950</td>\n",
       "      <td>75.974967</td>\n",
       "      <td>0.121704</td>\n",
       "    </tr>\n",
       "    <tr>\n",
       "      <th>7</th>\n",
       "      <td>Decision Tree</td>\n",
       "      <td>77.094972</td>\n",
       "      <td>75.151515</td>\n",
       "      <td>0.009974</td>\n",
       "    </tr>\n",
       "    <tr>\n",
       "      <th>8</th>\n",
       "      <td>Extra Trees</td>\n",
       "      <td>75.977654</td>\n",
       "      <td>73.432148</td>\n",
       "      <td>0.102724</td>\n",
       "    </tr>\n",
       "  </tbody>\n",
       "</table>\n",
       "</div>"
      ],
      "text/plain": [
       "           Model   Accuracy   Bal Acc.      Time\n",
       "1        Skl GBM  84.357542  81.870883  0.088763\n",
       "2       LightGBM  81.005587  78.333333  0.054854\n",
       "3    Skl HistGBM  80.446927  77.878788  0.471738\n",
       "4       CatBoost  79.888268  76.884058  0.162640\n",
       "5       AdaBoost  79.329609  77.239789  0.116709\n",
       "6  Random Forest  78.770950  75.974967  0.121704\n",
       "7  Decision Tree  77.094972  75.151515  0.009974\n",
       "8    Extra Trees  75.977654  73.432148  0.102724"
      ]
     },
     "execution_count": 83,
     "metadata": {},
     "output_type": "execute_result"
    }
   ],
   "source": [
    "results_ord"
   ]
  },
  {
   "cell_type": "markdown",
   "metadata": {},
   "source": [
    "# Exercise 6:\n",
    "Define a 10 Fold cross validation strategy with:\n",
    "- With stratification\n",
    "- shuffle=True\n",
    "- random_state=0\n",
    "\n",
    "And train all the models in a for loop.\n",
    "\n",
    "Tip you can use **[cross_val_predict](https://scikit-learn.org/stable/modules/generated/sklearn.model_selection.cross_val_predict.html)** for both training and predict with "
   ]
  },
  {
   "cell_type": "code",
   "execution_count": 88,
   "metadata": {},
   "outputs": [
    {
     "data": {
      "text/html": [
       "<style  type=\"text/css\" >\n",
       "    #T_cb2c0a6f_64c2_11eb_ab5b_a65aedf9df0erow0_col1 {\n",
       "            width:  10em;\n",
       "             height:  80%;\n",
       "            background:  linear-gradient(90deg,#d65f5f 100.0%, transparent 100.0%);\n",
       "        }    #T_cb2c0a6f_64c2_11eb_ab5b_a65aedf9df0erow0_col2 {\n",
       "            width:  10em;\n",
       "             height:  80%;\n",
       "            background:  linear-gradient(90deg,#d65f5f 100.0%, transparent 100.0%);\n",
       "        }    #T_cb2c0a6f_64c2_11eb_ab5b_a65aedf9df0erow1_col1 {\n",
       "            width:  10em;\n",
       "             height:  80%;\n",
       "            background:  linear-gradient(90deg,#d65f5f 79.5%, transparent 79.5%);\n",
       "        }    #T_cb2c0a6f_64c2_11eb_ab5b_a65aedf9df0erow1_col2 {\n",
       "            width:  10em;\n",
       "             height:  80%;\n",
       "            background:  linear-gradient(90deg,#d65f5f 67.1%, transparent 67.1%);\n",
       "        }    #T_cb2c0a6f_64c2_11eb_ab5b_a65aedf9df0erow2_col1 {\n",
       "            width:  10em;\n",
       "             height:  80%;\n",
       "            background:  linear-gradient(90deg,#d65f5f 74.4%, transparent 74.4%);\n",
       "        }    #T_cb2c0a6f_64c2_11eb_ab5b_a65aedf9df0erow2_col2 {\n",
       "            width:  10em;\n",
       "             height:  80%;\n",
       "            background:  linear-gradient(90deg,#d65f5f 82.0%, transparent 82.0%);\n",
       "        }    #T_cb2c0a6f_64c2_11eb_ab5b_a65aedf9df0erow3_col1 {\n",
       "            width:  10em;\n",
       "             height:  80%;\n",
       "            background:  linear-gradient(90deg,#d65f5f 66.7%, transparent 66.7%);\n",
       "        }    #T_cb2c0a6f_64c2_11eb_ab5b_a65aedf9df0erow3_col2 {\n",
       "            width:  10em;\n",
       "             height:  80%;\n",
       "            background:  linear-gradient(90deg,#d65f5f 61.5%, transparent 61.5%);\n",
       "        }    #T_cb2c0a6f_64c2_11eb_ab5b_a65aedf9df0erow4_col1 {\n",
       "            width:  10em;\n",
       "             height:  80%;\n",
       "            background:  linear-gradient(90deg,#d65f5f 46.2%, transparent 46.2%);\n",
       "        }    #T_cb2c0a6f_64c2_11eb_ab5b_a65aedf9df0erow4_col2 {\n",
       "            width:  10em;\n",
       "             height:  80%;\n",
       "            background:  linear-gradient(90deg,#d65f5f 47.5%, transparent 47.5%);\n",
       "        }    #T_cb2c0a6f_64c2_11eb_ab5b_a65aedf9df0erow5_col1 {\n",
       "            width:  10em;\n",
       "             height:  80%;\n",
       "            background:  linear-gradient(90deg,#d65f5f 25.6%, transparent 25.6%);\n",
       "        }    #T_cb2c0a6f_64c2_11eb_ab5b_a65aedf9df0erow5_col2 {\n",
       "            width:  10em;\n",
       "             height:  80%;\n",
       "            background:  linear-gradient(90deg,#d65f5f 19.7%, transparent 19.7%);\n",
       "        }    #T_cb2c0a6f_64c2_11eb_ab5b_a65aedf9df0erow6_col1 {\n",
       "            width:  10em;\n",
       "             height:  80%;\n",
       "            background:  linear-gradient(90deg,#d65f5f 23.1%, transparent 23.1%);\n",
       "        }    #T_cb2c0a6f_64c2_11eb_ab5b_a65aedf9df0erow6_col2 {\n",
       "            width:  10em;\n",
       "             height:  80%;\n",
       "            background:  linear-gradient(90deg,#d65f5f 34.0%, transparent 34.0%);\n",
       "        }    #T_cb2c0a6f_64c2_11eb_ab5b_a65aedf9df0erow7_col1 {\n",
       "            width:  10em;\n",
       "             height:  80%;\n",
       "        }    #T_cb2c0a6f_64c2_11eb_ab5b_a65aedf9df0erow7_col2 {\n",
       "            width:  10em;\n",
       "             height:  80%;\n",
       "        }</style><table id=\"T_cb2c0a6f_64c2_11eb_ab5b_a65aedf9df0e\" ><thead>    <tr>        <th class=\"blank level0\" ></th>        <th class=\"col_heading level0 col0\" >Model</th>        <th class=\"col_heading level0 col1\" >Accuracy</th>        <th class=\"col_heading level0 col2\" >Bal Acc.</th>        <th class=\"col_heading level0 col3\" >Time</th>    </tr></thead><tbody>\n",
       "                <tr>\n",
       "                        <th id=\"T_cb2c0a6f_64c2_11eb_ab5b_a65aedf9df0elevel0_row0\" class=\"row_heading level0 row0\" >1</th>\n",
       "                        <td id=\"T_cb2c0a6f_64c2_11eb_ab5b_a65aedf9df0erow0_col0\" class=\"data row0 col0\" >Skl GBM</td>\n",
       "                        <td id=\"T_cb2c0a6f_64c2_11eb_ab5b_a65aedf9df0erow0_col1\" class=\"data row0 col1\" >83.838384</td>\n",
       "                        <td id=\"T_cb2c0a6f_64c2_11eb_ab5b_a65aedf9df0erow0_col2\" class=\"data row0 col2\" >81.703576</td>\n",
       "                        <td id=\"T_cb2c0a6f_64c2_11eb_ab5b_a65aedf9df0erow0_col3\" class=\"data row0 col3\" >2.911729</td>\n",
       "            </tr>\n",
       "            <tr>\n",
       "                        <th id=\"T_cb2c0a6f_64c2_11eb_ab5b_a65aedf9df0elevel0_row1\" class=\"row_heading level0 row1\" >2</th>\n",
       "                        <td id=\"T_cb2c0a6f_64c2_11eb_ab5b_a65aedf9df0erow1_col0\" class=\"data row1 col0\" >CatBoost</td>\n",
       "                        <td id=\"T_cb2c0a6f_64c2_11eb_ab5b_a65aedf9df0erow1_col1\" class=\"data row1 col1\" >82.940516</td>\n",
       "                        <td id=\"T_cb2c0a6f_64c2_11eb_ab5b_a65aedf9df0erow1_col2\" class=\"data row1 col2\" >80.644234</td>\n",
       "                        <td id=\"T_cb2c0a6f_64c2_11eb_ab5b_a65aedf9df0erow1_col3\" class=\"data row1 col3\" >4.521794</td>\n",
       "            </tr>\n",
       "            <tr>\n",
       "                        <th id=\"T_cb2c0a6f_64c2_11eb_ab5b_a65aedf9df0elevel0_row2\" class=\"row_heading level0 row2\" >3</th>\n",
       "                        <td id=\"T_cb2c0a6f_64c2_11eb_ab5b_a65aedf9df0erow2_col0\" class=\"data row2 col0\" >LightGBM</td>\n",
       "                        <td id=\"T_cb2c0a6f_64c2_11eb_ab5b_a65aedf9df0erow2_col1\" class=\"data row2 col1\" >82.716049</td>\n",
       "                        <td id=\"T_cb2c0a6f_64c2_11eb_ab5b_a65aedf9df0erow2_col2\" class=\"data row2 col2\" >81.123574</td>\n",
       "                        <td id=\"T_cb2c0a6f_64c2_11eb_ab5b_a65aedf9df0erow2_col3\" class=\"data row2 col3\" >1.673526</td>\n",
       "            </tr>\n",
       "            <tr>\n",
       "                        <th id=\"T_cb2c0a6f_64c2_11eb_ab5b_a65aedf9df0elevel0_row3\" class=\"row_heading level0 row3\" >4</th>\n",
       "                        <td id=\"T_cb2c0a6f_64c2_11eb_ab5b_a65aedf9df0erow3_col0\" class=\"data row3 col0\" >Skl HistGBM</td>\n",
       "                        <td id=\"T_cb2c0a6f_64c2_11eb_ab5b_a65aedf9df0erow3_col1\" class=\"data row3 col1\" >82.379349</td>\n",
       "                        <td id=\"T_cb2c0a6f_64c2_11eb_ab5b_a65aedf9df0erow3_col2\" class=\"data row3 col2\" >80.464481</td>\n",
       "                        <td id=\"T_cb2c0a6f_64c2_11eb_ab5b_a65aedf9df0erow3_col3\" class=\"data row3 col3\" >13.081635</td>\n",
       "            </tr>\n",
       "            <tr>\n",
       "                        <th id=\"T_cb2c0a6f_64c2_11eb_ab5b_a65aedf9df0elevel0_row4\" class=\"row_heading level0 row4\" >5</th>\n",
       "                        <td id=\"T_cb2c0a6f_64c2_11eb_ab5b_a65aedf9df0erow4_col0\" class=\"data row4 col0\" >Random Forest</td>\n",
       "                        <td id=\"T_cb2c0a6f_64c2_11eb_ab5b_a65aedf9df0erow4_col1\" class=\"data row4 col1\" >81.481481</td>\n",
       "                        <td id=\"T_cb2c0a6f_64c2_11eb_ab5b_a65aedf9df0erow4_col2\" class=\"data row4 col2\" >80.011504</td>\n",
       "                        <td id=\"T_cb2c0a6f_64c2_11eb_ab5b_a65aedf9df0erow4_col3\" class=\"data row4 col3\" >5.669201</td>\n",
       "            </tr>\n",
       "            <tr>\n",
       "                        <th id=\"T_cb2c0a6f_64c2_11eb_ab5b_a65aedf9df0elevel0_row5\" class=\"row_heading level0 row5\" >6</th>\n",
       "                        <td id=\"T_cb2c0a6f_64c2_11eb_ab5b_a65aedf9df0erow5_col0\" class=\"data row5 col0\" >Extra Trees</td>\n",
       "                        <td id=\"T_cb2c0a6f_64c2_11eb_ab5b_a65aedf9df0erow5_col1\" class=\"data row5 col1\" >80.583614</td>\n",
       "                        <td id=\"T_cb2c0a6f_64c2_11eb_ab5b_a65aedf9df0erow5_col2\" class=\"data row5 col2\" >79.117534</td>\n",
       "                        <td id=\"T_cb2c0a6f_64c2_11eb_ab5b_a65aedf9df0erow5_col3\" class=\"data row5 col3\" >4.273582</td>\n",
       "            </tr>\n",
       "            <tr>\n",
       "                        <th id=\"T_cb2c0a6f_64c2_11eb_ab5b_a65aedf9df0elevel0_row6\" class=\"row_heading level0 row6\" >7</th>\n",
       "                        <td id=\"T_cb2c0a6f_64c2_11eb_ab5b_a65aedf9df0erow6_col0\" class=\"data row6 col0\" >AdaBoost</td>\n",
       "                        <td id=\"T_cb2c0a6f_64c2_11eb_ab5b_a65aedf9df0erow6_col1\" class=\"data row6 col1\" >80.471380</td>\n",
       "                        <td id=\"T_cb2c0a6f_64c2_11eb_ab5b_a65aedf9df0erow6_col2\" class=\"data row6 col2\" >79.577701</td>\n",
       "                        <td id=\"T_cb2c0a6f_64c2_11eb_ab5b_a65aedf9df0erow6_col3\" class=\"data row6 col3\" >4.768076</td>\n",
       "            </tr>\n",
       "            <tr>\n",
       "                        <th id=\"T_cb2c0a6f_64c2_11eb_ab5b_a65aedf9df0elevel0_row7\" class=\"row_heading level0 row7\" >8</th>\n",
       "                        <td id=\"T_cb2c0a6f_64c2_11eb_ab5b_a65aedf9df0erow7_col0\" class=\"data row7 col0\" >Decision Tree</td>\n",
       "                        <td id=\"T_cb2c0a6f_64c2_11eb_ab5b_a65aedf9df0erow7_col1\" class=\"data row7 col1\" >79.461279</td>\n",
       "                        <td id=\"T_cb2c0a6f_64c2_11eb_ab5b_a65aedf9df0erow7_col2\" class=\"data row7 col2\" >78.482408</td>\n",
       "                        <td id=\"T_cb2c0a6f_64c2_11eb_ab5b_a65aedf9df0erow7_col3\" class=\"data row7 col3\" >0.460839</td>\n",
       "            </tr>\n",
       "    </tbody></table>"
      ],
      "text/plain": [
       "<pandas.io.formats.style.Styler at 0x1e24f475580>"
      ]
     },
     "metadata": {},
     "output_type": "display_data"
    }
   ],
   "source": [
    "skf = model_selection.StratifiedKFold(n_splits=10, shuffle=True, random_state=0)\n",
    "\n",
    "results= pd.DataFrame({'Model': [], 'Accuracy': [], 'Bal Acc.': [], 'Time': []})\n",
    "\n",
    "\n",
    "for model_name, model in tree_classifiers.items():\n",
    "    \n",
    "    start_time = time.time()\n",
    "    pred = model_selection.cross_val_predict(model, x, y, cv=skf)\n",
    "    total_time = time.time() - start_time\n",
    "    \n",
    "    results = results.append({\"Model\":    model_name,\n",
    "                              \"Accuracy\": metrics.accuracy_score(y,pred)*100,\n",
    "                              \"Bal Acc.\": metrics.balanced_accuracy_score(y,pred)*100,\n",
    "                              \"Time\":     total_time},\n",
    "                               ignore_index=True)\n",
    "    results_ord = results.sort_values(by=['Accuracy'], ascending=False, ignore_index=True)\n",
    "    results_ord.index += 1\n",
    "    \n",
    "    clear_output(wait=True)\n",
    "    display(results_ord.style.bar(subset=['Accuracy', 'Bal Acc.']))\n",
    "    "
   ]
  },
  {
   "cell_type": "code",
   "execution_count": 89,
   "metadata": {},
   "outputs": [
    {
     "data": {
      "text/html": [
       "<div>\n",
       "<style scoped>\n",
       "    .dataframe tbody tr th:only-of-type {\n",
       "        vertical-align: middle;\n",
       "    }\n",
       "\n",
       "    .dataframe tbody tr th {\n",
       "        vertical-align: top;\n",
       "    }\n",
       "\n",
       "    .dataframe thead th {\n",
       "        text-align: right;\n",
       "    }\n",
       "</style>\n",
       "<table border=\"1\" class=\"dataframe\">\n",
       "  <thead>\n",
       "    <tr style=\"text-align: right;\">\n",
       "      <th></th>\n",
       "      <th>Model</th>\n",
       "      <th>Accuracy</th>\n",
       "      <th>Bal Acc.</th>\n",
       "      <th>Time</th>\n",
       "    </tr>\n",
       "  </thead>\n",
       "  <tbody>\n",
       "    <tr>\n",
       "      <th>1</th>\n",
       "      <td>Skl GBM</td>\n",
       "      <td>83.838384</td>\n",
       "      <td>81.703576</td>\n",
       "      <td>2.911729</td>\n",
       "    </tr>\n",
       "    <tr>\n",
       "      <th>2</th>\n",
       "      <td>CatBoost</td>\n",
       "      <td>82.940516</td>\n",
       "      <td>80.644234</td>\n",
       "      <td>4.521794</td>\n",
       "    </tr>\n",
       "    <tr>\n",
       "      <th>3</th>\n",
       "      <td>LightGBM</td>\n",
       "      <td>82.716049</td>\n",
       "      <td>81.123574</td>\n",
       "      <td>1.673526</td>\n",
       "    </tr>\n",
       "    <tr>\n",
       "      <th>4</th>\n",
       "      <td>Skl HistGBM</td>\n",
       "      <td>82.379349</td>\n",
       "      <td>80.464481</td>\n",
       "      <td>13.081635</td>\n",
       "    </tr>\n",
       "    <tr>\n",
       "      <th>5</th>\n",
       "      <td>Random Forest</td>\n",
       "      <td>81.481481</td>\n",
       "      <td>80.011504</td>\n",
       "      <td>5.669201</td>\n",
       "    </tr>\n",
       "    <tr>\n",
       "      <th>6</th>\n",
       "      <td>Extra Trees</td>\n",
       "      <td>80.583614</td>\n",
       "      <td>79.117534</td>\n",
       "      <td>4.273582</td>\n",
       "    </tr>\n",
       "    <tr>\n",
       "      <th>7</th>\n",
       "      <td>AdaBoost</td>\n",
       "      <td>80.471380</td>\n",
       "      <td>79.577701</td>\n",
       "      <td>4.768076</td>\n",
       "    </tr>\n",
       "    <tr>\n",
       "      <th>8</th>\n",
       "      <td>Decision Tree</td>\n",
       "      <td>79.461279</td>\n",
       "      <td>78.482408</td>\n",
       "      <td>0.460839</td>\n",
       "    </tr>\n",
       "  </tbody>\n",
       "</table>\n",
       "</div>"
      ],
      "text/plain": [
       "           Model   Accuracy   Bal Acc.       Time\n",
       "1        Skl GBM  83.838384  81.703576   2.911729\n",
       "2       CatBoost  82.940516  80.644234   4.521794\n",
       "3       LightGBM  82.716049  81.123574   1.673526\n",
       "4    Skl HistGBM  82.379349  80.464481  13.081635\n",
       "5  Random Forest  81.481481  80.011504   5.669201\n",
       "6    Extra Trees  80.583614  79.117534   4.273582\n",
       "7       AdaBoost  80.471380  79.577701   4.768076\n",
       "8  Decision Tree  79.461279  78.482408   0.460839"
      ]
     },
     "execution_count": 89,
     "metadata": {},
     "output_type": "execute_result"
    }
   ],
   "source": [
    "results_ord"
   ]
  },
  {
   "cell_type": "markdown",
   "metadata": {},
   "source": [
    "# Exercise 7\n",
    "Train **with all data** the best model"
   ]
  },
  {
   "cell_type": "code",
   "execution_count": 97,
   "metadata": {
    "colab": {},
    "colab_type": "code",
    "id": "monuuQhHL7B_"
   },
   "outputs": [
    {
     "data": {
      "text/html": [
       "<style>div.sk-top-container {color: black;background-color: white;}div.sk-toggleable {background-color: white;}label.sk-toggleable__label {cursor: pointer;display: block;width: 100%;margin-bottom: 0;padding: 0.2em 0.3em;box-sizing: border-box;text-align: center;}div.sk-toggleable__content {max-height: 0;max-width: 0;overflow: hidden;text-align: left;background-color: #f0f8ff;}div.sk-toggleable__content pre {margin: 0.2em;color: black;border-radius: 0.25em;background-color: #f0f8ff;}input.sk-toggleable__control:checked~div.sk-toggleable__content {max-height: 200px;max-width: 100%;overflow: auto;}div.sk-estimator input.sk-toggleable__control:checked~label.sk-toggleable__label {background-color: #d4ebff;}div.sk-label input.sk-toggleable__control:checked~label.sk-toggleable__label {background-color: #d4ebff;}input.sk-hidden--visually {border: 0;clip: rect(1px 1px 1px 1px);clip: rect(1px, 1px, 1px, 1px);height: 1px;margin: -1px;overflow: hidden;padding: 0;position: absolute;width: 1px;}div.sk-estimator {font-family: monospace;background-color: #f0f8ff;margin: 0.25em 0.25em;border: 1px dotted black;border-radius: 0.25em;box-sizing: border-box;}div.sk-estimator:hover {background-color: #d4ebff;}div.sk-parallel-item::after {content: \"\";width: 100%;border-bottom: 1px solid gray;flex-grow: 1;}div.sk-label:hover label.sk-toggleable__label {background-color: #d4ebff;}div.sk-serial::before {content: \"\";position: absolute;border-left: 1px solid gray;box-sizing: border-box;top: 2em;bottom: 0;left: 50%;}div.sk-serial {display: flex;flex-direction: column;align-items: center;background-color: white;}div.sk-item {z-index: 1;}div.sk-parallel {display: flex;align-items: stretch;justify-content: center;background-color: white;}div.sk-parallel-item {display: flex;flex-direction: column;position: relative;background-color: white;}div.sk-parallel-item:first-child::after {align-self: flex-end;width: 50%;}div.sk-parallel-item:last-child::after {align-self: flex-start;width: 50%;}div.sk-parallel-item:only-child::after {width: 0;}div.sk-dashed-wrapped {border: 1px dashed gray;margin: 0.2em;box-sizing: border-box;padding-bottom: 0.1em;background-color: white;position: relative;}div.sk-label label {font-family: monospace;font-weight: bold;background-color: white;display: inline-block;line-height: 1.2em;}div.sk-label-container {position: relative;z-index: 2;text-align: center;}div.sk-container {display: inline-block;position: relative;}</style><div class=\"sk-top-container\"><div class=\"sk-container\"><div class=\"sk-item sk-dashed-wrapped\"><div class=\"sk-label-container\"><div class=\"sk-label sk-toggleable\"><input class=\"sk-toggleable__control sk-hidden--visually\" id=\"e61b3422-295c-4f8c-aa7b-2cc185cc2991\" type=\"checkbox\" ><label class=\"sk-toggleable__label\" for=\"e61b3422-295c-4f8c-aa7b-2cc185cc2991\">Pipeline</label><div class=\"sk-toggleable__content\"><pre>Pipeline(steps=[('columntransformer',\n",
       "                 ColumnTransformer(transformers=[('num',\n",
       "                                                  Pipeline(steps=[('imputer',\n",
       "                                                                   SimpleImputer(fill_value=-9999))]),\n",
       "                                                  ['Pclass', 'SibSp', 'Parch',\n",
       "                                                   'Fare', 'Age']),\n",
       "                                                 ('cat',\n",
       "                                                  Pipeline(steps=[('imputer',\n",
       "                                                                   SimpleImputer(fill_value='missing',\n",
       "                                                                                 strategy='constant')),\n",
       "                                                                  ('ordinal',\n",
       "                                                                   OneHotEncoder(handle_unknown='ignore'))]),\n",
       "                                                  ['Sex', 'Embarked',\n",
       "                                                   'Title'])])),\n",
       "                ('gradientboostingclassifier', GradientBoostingClassifier())])</pre></div></div></div><div class=\"sk-serial\"><div class=\"sk-item sk-dashed-wrapped\"><div class=\"sk-label-container\"><div class=\"sk-label sk-toggleable\"><input class=\"sk-toggleable__control sk-hidden--visually\" id=\"3de435f8-85ff-47c5-9868-739fe0bdfd04\" type=\"checkbox\" ><label class=\"sk-toggleable__label\" for=\"3de435f8-85ff-47c5-9868-739fe0bdfd04\">columntransformer: ColumnTransformer</label><div class=\"sk-toggleable__content\"><pre>ColumnTransformer(transformers=[('num',\n",
       "                                 Pipeline(steps=[('imputer',\n",
       "                                                  SimpleImputer(fill_value=-9999))]),\n",
       "                                 ['Pclass', 'SibSp', 'Parch', 'Fare', 'Age']),\n",
       "                                ('cat',\n",
       "                                 Pipeline(steps=[('imputer',\n",
       "                                                  SimpleImputer(fill_value='missing',\n",
       "                                                                strategy='constant')),\n",
       "                                                 ('ordinal',\n",
       "                                                  OneHotEncoder(handle_unknown='ignore'))]),\n",
       "                                 ['Sex', 'Embarked', 'Title'])])</pre></div></div></div><div class=\"sk-parallel\"><div class=\"sk-parallel-item\"><div class=\"sk-item\"><div class=\"sk-label-container\"><div class=\"sk-label sk-toggleable\"><input class=\"sk-toggleable__control sk-hidden--visually\" id=\"56632a9b-05c0-46be-87bb-72d9c4fcfc8d\" type=\"checkbox\" ><label class=\"sk-toggleable__label\" for=\"56632a9b-05c0-46be-87bb-72d9c4fcfc8d\">num</label><div class=\"sk-toggleable__content\"><pre>['Pclass', 'SibSp', 'Parch', 'Fare', 'Age']</pre></div></div></div><div class=\"sk-serial\"><div class=\"sk-item\"><div class=\"sk-serial\"><div class=\"sk-item\"><div class=\"sk-estimator sk-toggleable\"><input class=\"sk-toggleable__control sk-hidden--visually\" id=\"cf51065b-5852-4247-8a31-7617d1d9ab58\" type=\"checkbox\" ><label class=\"sk-toggleable__label\" for=\"cf51065b-5852-4247-8a31-7617d1d9ab58\">SimpleImputer</label><div class=\"sk-toggleable__content\"><pre>SimpleImputer(fill_value=-9999)</pre></div></div></div></div></div></div></div></div><div class=\"sk-parallel-item\"><div class=\"sk-item\"><div class=\"sk-label-container\"><div class=\"sk-label sk-toggleable\"><input class=\"sk-toggleable__control sk-hidden--visually\" id=\"b4348d69-fe78-4f5b-9953-2a0146f3c565\" type=\"checkbox\" ><label class=\"sk-toggleable__label\" for=\"b4348d69-fe78-4f5b-9953-2a0146f3c565\">cat</label><div class=\"sk-toggleable__content\"><pre>['Sex', 'Embarked', 'Title']</pre></div></div></div><div class=\"sk-serial\"><div class=\"sk-item\"><div class=\"sk-serial\"><div class=\"sk-item\"><div class=\"sk-estimator sk-toggleable\"><input class=\"sk-toggleable__control sk-hidden--visually\" id=\"8507bd66-26a4-4851-8342-fc5052b1418e\" type=\"checkbox\" ><label class=\"sk-toggleable__label\" for=\"8507bd66-26a4-4851-8342-fc5052b1418e\">SimpleImputer</label><div class=\"sk-toggleable__content\"><pre>SimpleImputer(fill_value='missing', strategy='constant')</pre></div></div></div><div class=\"sk-item\"><div class=\"sk-estimator sk-toggleable\"><input class=\"sk-toggleable__control sk-hidden--visually\" id=\"261518c4-068f-4bd6-8cdc-2d7892ef443e\" type=\"checkbox\" ><label class=\"sk-toggleable__label\" for=\"261518c4-068f-4bd6-8cdc-2d7892ef443e\">OneHotEncoder</label><div class=\"sk-toggleable__content\"><pre>OneHotEncoder(handle_unknown='ignore')</pre></div></div></div></div></div></div></div></div></div></div><div class=\"sk-item\"><div class=\"sk-estimator sk-toggleable\"><input class=\"sk-toggleable__control sk-hidden--visually\" id=\"babf35b5-a657-4c3d-923b-42bf8a9ca1f2\" type=\"checkbox\" ><label class=\"sk-toggleable__label\" for=\"babf35b5-a657-4c3d-923b-42bf8a9ca1f2\">GradientBoostingClassifier</label><div class=\"sk-toggleable__content\"><pre>GradientBoostingClassifier()</pre></div></div></div></div></div></div></div>"
      ],
      "text/plain": [
       "Pipeline(steps=[('columntransformer',\n",
       "                 ColumnTransformer(transformers=[('num',\n",
       "                                                  Pipeline(steps=[('imputer',\n",
       "                                                                   SimpleImputer(fill_value=-9999))]),\n",
       "                                                  ['Pclass', 'SibSp', 'Parch',\n",
       "                                                   'Fare', 'Age']),\n",
       "                                                 ('cat',\n",
       "                                                  Pipeline(steps=[('imputer',\n",
       "                                                                   SimpleImputer(fill_value='missing',\n",
       "                                                                                 strategy='constant')),\n",
       "                                                                  ('ordinal',\n",
       "                                                                   OneHotEncoder(handle_unknown='ignore'))]),\n",
       "                                                  ['Sex', 'Embarked',\n",
       "                                                   'Title'])])),\n",
       "                ('gradientboostingclassifier', GradientBoostingClassifier())])"
      ]
     },
     "execution_count": 97,
     "metadata": {},
     "output_type": "execute_result"
    }
   ],
   "source": [
    "best_model = tree_classifiers[\"Skl GBM\"]\n",
    "best_model.fit(x, y)"
   ]
  },
  {
   "cell_type": "markdown",
   "metadata": {},
   "source": [
    "# Exercise 8\n",
    "With your best model, generate the predicitions for test data (x_test)"
   ]
  },
  {
   "cell_type": "code",
   "execution_count": 98,
   "metadata": {},
   "outputs": [
    {
     "data": {
      "text/plain": [
       "(418,)"
      ]
     },
     "execution_count": 98,
     "metadata": {},
     "output_type": "execute_result"
    }
   ],
   "source": [
    "test_pred = best_model.predict(x_test)\n",
    "test_pred.shape"
   ]
  },
  {
   "cell_type": "markdown",
   "metadata": {},
   "source": [
    "# Exercise 9\n",
    "\n",
    "Submit to kaggle using the kaggle API. And send us your score. You can try to improve it."
   ]
  },
  {
   "cell_type": "code",
   "execution_count": 102,
   "metadata": {},
   "outputs": [
    {
     "data": {
      "text/html": [
       "<div>\n",
       "<style scoped>\n",
       "    .dataframe tbody tr th:only-of-type {\n",
       "        vertical-align: middle;\n",
       "    }\n",
       "\n",
       "    .dataframe tbody tr th {\n",
       "        vertical-align: top;\n",
       "    }\n",
       "\n",
       "    .dataframe thead th {\n",
       "        text-align: right;\n",
       "    }\n",
       "</style>\n",
       "<table border=\"1\" class=\"dataframe\">\n",
       "  <thead>\n",
       "    <tr style=\"text-align: right;\">\n",
       "      <th></th>\n",
       "      <th>Survived</th>\n",
       "    </tr>\n",
       "    <tr>\n",
       "      <th>PassengerId</th>\n",
       "      <th></th>\n",
       "    </tr>\n",
       "  </thead>\n",
       "  <tbody>\n",
       "    <tr>\n",
       "      <th>892</th>\n",
       "      <td>0</td>\n",
       "    </tr>\n",
       "    <tr>\n",
       "      <th>893</th>\n",
       "      <td>0</td>\n",
       "    </tr>\n",
       "    <tr>\n",
       "      <th>894</th>\n",
       "      <td>0</td>\n",
       "    </tr>\n",
       "    <tr>\n",
       "      <th>895</th>\n",
       "      <td>0</td>\n",
       "    </tr>\n",
       "    <tr>\n",
       "      <th>896</th>\n",
       "      <td>1</td>\n",
       "    </tr>\n",
       "  </tbody>\n",
       "</table>\n",
       "</div>"
      ],
      "text/plain": [
       "             Survived\n",
       "PassengerId          \n",
       "892                 0\n",
       "893                 0\n",
       "894                 0\n",
       "895                 0\n",
       "896                 1"
      ]
     },
     "execution_count": 102,
     "metadata": {},
     "output_type": "execute_result"
    }
   ],
   "source": [
    "sub = pd.DataFrame(test_pred, index=x_test.index, columns=[\"Survived\"])\n",
    "sub.head()"
   ]
  },
  {
   "cell_type": "code",
   "execution_count": 103,
   "metadata": {},
   "outputs": [],
   "source": [
    "sub.to_csv(\"sub.csv\")"
   ]
  },
  {
   "cell_type": "code",
   "execution_count": 101,
   "metadata": {},
   "outputs": [
    {
     "name": "stderr",
     "output_type": "stream",
     "text": [
      "'kaggle' is not recognized as an internal or external command,\n",
      "operable program or batch file.\n"
     ]
    }
   ],
   "source": [
    "!kaggle competitions submit -c titanic -f sub.csv -m \"My submission message\""
   ]
  },
  {
   "cell_type": "markdown",
   "metadata": {},
   "source": [
    "# Exercise BONUS\n",
    "\n",
    "Knowing how to export your models is very important for putting models in production. Try to\n",
    "- Export and Load the ColumTransformer in pickle\n",
    "- Export and Load the ColumTransformer in joblib\n",
    "- Export and load the Pipeline"
   ]
  }
 ],
 "metadata": {
  "anaconda-cloud": {},
  "colab": {
   "collapsed_sections": [],
   "name": "Titanic LogReg.ipynb",
   "provenance": []
  },
  "kernelspec": {
   "display_name": "Python 3",
   "language": "python",
   "name": "python3"
  },
  "language_info": {
   "codemirror_mode": {
    "name": "ipython",
    "version": 3
   },
   "file_extension": ".py",
   "mimetype": "text/x-python",
   "name": "python",
   "nbconvert_exporter": "python",
   "pygments_lexer": "ipython3",
   "version": "3.8.3"
  },
  "name": "seminar13_optional_practice_trees_titanic.ipynb"
 },
 "nbformat": 4,
 "nbformat_minor": 4
}
